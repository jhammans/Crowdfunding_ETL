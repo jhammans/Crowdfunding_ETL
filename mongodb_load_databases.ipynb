{
 "cells": [
  {
   "cell_type": "code",
   "execution_count": 1,
   "metadata": {},
   "outputs": [],
   "source": [
    "# Standard library imports\n",
    "import sys\n",
    "import subprocess\n",
    "from pathlib import Path\n",
    "\n",
    "# Import Dependencies\n",
    "import psycopg2\n",
    "from pymongo import MongoClient\n",
    "from pprint import pprint\n",
    "from sqlalchemy.ext.automap import automap_base\n",
    "from sqlalchemy.orm import Session\n",
    "from sqlalchemy import create_engine\n",
    "from sqlalchemy import func\n",
    "\n",
    "# Local application imports\n",
    "from utils import fetch_api_data, load_config, write_to_csv"
   ]
  },
  {
   "cell_type": "code",
   "execution_count": 2,
   "metadata": {},
   "outputs": [],
   "source": [
    "# Load configuration from a JSON file\n",
    "config = load_config('config.json')"
   ]
  },
  {
   "cell_type": "code",
   "execution_count": 3,
   "metadata": {},
   "outputs": [],
   "source": [
    "# Retrieve the database credentials from the configuration\n",
    "mongodb_user = config.get('mongodb_cluster', {}).get('user')\n",
    "mongodb_pswd = config.get('mongodb_cluster', {}).get('password')\n",
    "mongodb_srvr = config.get('mongodb_cluster', {}).get('server')\n",
    "\n",
    "# Check if the API key was found in the configuration\n",
    "if not mongodb_user or not mongodb_pswd:\n",
    "    print(\"MongoDB credentials not found in the configuration file.\")\n",
    "    sys.exit()  # Exit the script if the key is missing\n"
   ]
  },
  {
   "cell_type": "code",
   "execution_count": 4,
   "metadata": {},
   "outputs": [],
   "source": [
    " mongo_uri = f\"mongodb+srv://{mongodb_user}:{mongodb_pswd}@{mongodb_srvr}/\""
   ]
  },
  {
   "cell_type": "code",
   "execution_count": 5,
   "metadata": {},
   "outputs": [],
   "source": [
    "# Load data in MongoDB using the CSV file\n",
    "def mongoImportFromCSV(mongo_uri, db_name, collection_name, csv_file_location ):\n",
    "    # Build the mongoimport command\n",
    "    command = [\n",
    "        'mongoimport',\n",
    "        '--uri', mongo_uri,\n",
    "        '--db', db_name,\n",
    "        '--collection', collection_name,\n",
    "        '--type', 'csv',\n",
    "        '--headerline',  # Assumes the first line of the CSV file contains column headers\n",
    "        '--file', str(csv_file_location),\n",
    "        '--drop'\n",
    "    ]\n",
    "    # Execute the command\n",
    "    try:\n",
    "        subprocess.run(command, check=True)\n",
    "    except subprocess.CalledProcessError as e:\n",
    "        print(f\"Error importing {csv_file_location}: {e}\")\n",
    "    \n",
    "    print(f\"Imported {csv_file_location} into collection {collection_name}.\")\n"
   ]
  },
  {
   "cell_type": "code",
   "execution_count": 6,
   "metadata": {},
   "outputs": [],
   "source": [
    "def getDatabase(mongo, db_name):    \n",
    "    print(mongo.list_database_names())\n",
    "    db = mongo[f'{db_name}']  \n",
    "    return db\n",
    "\n",
    "def checkCollectionNames(db):      \n",
    "    return db.list_collection_names()"
   ]
  },
  {
   "cell_type": "code",
   "execution_count": 7,
   "metadata": {},
   "outputs": [],
   "source": [
    "# Create a query that finds the all documents in the category collection\n",
    "def getCollectionCount(db, collection_name):   \n",
    "    collection_data = db[collection_name]\n",
    "    query = {}\n",
    "    results = collection_data.find(query)\n",
    "    # Print the number of results\n",
    "    # print(f\"Number of {collection_name} :\", collection_data.count_documents({}))\n",
    "    return collection_data.count_documents({})"
   ]
  },
  {
   "cell_type": "code",
   "execution_count": 8,
   "metadata": {},
   "outputs": [],
   "source": [
    "def populateDatabase(db_name, mongo_uri, object_names):\n",
    "    for each in object_names:\n",
    "        file_name = f'Resources/{each}.csv'\n",
    "        mongoImportFromCSV(mongo_uri,db_name,each,file_name)    \n"
   ]
  },
  {
   "cell_type": "code",
   "execution_count": 9,
   "metadata": {},
   "outputs": [],
   "source": [
    "def createMongoDBCluster(db_name, object_names):   \n",
    "    populateDatabase(db_name, mongo_uri, object_names)\n",
    "    "
   ]
  },
  {
   "cell_type": "code",
   "execution_count": 10,
   "metadata": {},
   "outputs": [],
   "source": [
    "def validateMongoDBCluster(db_name):\n",
    "    mongo = MongoClient(mongo_uri)\n",
    "    db = getDatabase(mongo, db_name)\n",
    "    collection_names = checkCollectionNames(db)\n",
    "    print(collection_names)   \n",
    "    for each in collection_names:        \n",
    "        print(f'{each} {getCollectionCount(db,str(each))}')\n",
    "    mongo.close()"
   ]
  },
  {
   "cell_type": "code",
   "execution_count": null,
   "metadata": {},
   "outputs": [],
   "source": []
  }
 ],
 "metadata": {
  "kernelspec": {
   "display_name": "Python 3 (ipykernel)",
   "language": "python",
   "name": "python3"
  },
  "language_info": {
   "codemirror_mode": {
    "name": "ipython",
    "version": 3
   },
   "file_extension": ".py",
   "mimetype": "text/x-python",
   "name": "python",
   "nbconvert_exporter": "python",
   "pygments_lexer": "ipython3",
   "version": "3.10.14"
  }
 },
 "nbformat": 4,
 "nbformat_minor": 4
}
